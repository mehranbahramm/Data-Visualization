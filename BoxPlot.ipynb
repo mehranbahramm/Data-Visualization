{
  "nbformat": 4,
  "nbformat_minor": 0,
  "metadata": {
    "colab": {
      "provenance": []
    },
    "kernelspec": {
      "name": "python3",
      "display_name": "Python 3"
    },
    "language_info": {
      "name": "python"
    }
  },
  "cells": [
    {
      "cell_type": "markdown",
      "source": [
        "#Data Exploratory"
      ],
      "metadata": {
        "id": "Mi-QXHhuhAyq"
      }
    },
    {
      "cell_type": "code",
      "execution_count": 1,
      "metadata": {
        "colab": {
          "base_uri": "https://localhost:8080/"
        },
        "id": "1rCowaqQfs_J",
        "outputId": "854e468a-b5e7-4180-fa47-a9ee74278944"
      },
      "outputs": [
        {
          "output_type": "stream",
          "name": "stdout",
          "text": [
            "Collecting pyforest\n",
            "  Downloading pyforest-1.1.0.tar.gz (15 kB)\n",
            "  Preparing metadata (setup.py) ... \u001b[?25l\u001b[?25hdone\n",
            "Building wheels for collected packages: pyforest\n",
            "  Building wheel for pyforest (setup.py) ... \u001b[?25l\u001b[?25hdone\n",
            "  Created wheel for pyforest: filename=pyforest-1.1.0-py2.py3-none-any.whl size=14606 sha256=4179763d64d28346d1cf4ebdf1b763c0c8dd9105cf2b50dac9e6864c6439cdc8\n",
            "  Stored in directory: /root/.cache/pip/wheels/9e/7d/2c/5d2f5e62de376c386fd3bf5a8e5bd119ace6a9f48f49df6017\n",
            "Successfully built pyforest\n",
            "Installing collected packages: pyforest\n",
            "Successfully installed pyforest-1.1.0\n"
          ]
        }
      ],
      "source": [
        "pip install pyforest"
      ]
    },
    {
      "cell_type": "code",
      "source": [
        "import pyforest\n",
        "import seaborn as sns"
      ],
      "metadata": {
        "id": "-ykmlFH4g49X"
      },
      "execution_count": 2,
      "outputs": []
    },
    {
      "cell_type": "code",
      "source": [
        "data=pd.read_csv('Global_Superstore(CSV).csv')"
      ],
      "metadata": {
        "colab": {
          "base_uri": "https://localhost:8080/",
          "height": 17
        },
        "id": "c77FAXcvg8P3",
        "outputId": "40a5d856-3474-45da-860f-61e031d4bb07"
      },
      "execution_count": 3,
      "outputs": [
        {
          "output_type": "display_data",
          "data": {
            "text/plain": [
              "<IPython.core.display.Javascript object>"
            ],
            "application/javascript": [
              "\n",
              "        if (window._pyforest_update_imports_cell) { window._pyforest_update_imports_cell('import pandas as pd'); }\n",
              "    "
            ]
          },
          "metadata": {}
        }
      ]
    },
    {
      "cell_type": "code",
      "source": [
        "data.info()"
      ],
      "metadata": {
        "colab": {
          "base_uri": "https://localhost:8080/"
        },
        "id": "MbxoD5Tjg-OR",
        "outputId": "db526362-bf16-44c6-843c-3785c17e837f"
      },
      "execution_count": 4,
      "outputs": [
        {
          "output_type": "stream",
          "name": "stdout",
          "text": [
            "<class 'pandas.core.frame.DataFrame'>\n",
            "RangeIndex: 1000 entries, 0 to 999\n",
            "Data columns (total 24 columns):\n",
            " #   Column          Non-Null Count  Dtype  \n",
            "---  ------          --------------  -----  \n",
            " 0   Row ID          1000 non-null   int64  \n",
            " 1   Order ID        1000 non-null   object \n",
            " 2   Order Date      1000 non-null   object \n",
            " 3   Ship Date       1000 non-null   object \n",
            " 4   Ship Mode       1000 non-null   object \n",
            " 5   Customer ID     1000 non-null   object \n",
            " 6   Customer Name   1000 non-null   object \n",
            " 7   Segment         1000 non-null   object \n",
            " 8   Postal Code     194 non-null    float64\n",
            " 9   City            1000 non-null   object \n",
            " 10  State           1000 non-null   object \n",
            " 11  Country         1000 non-null   object \n",
            " 12  Region          1000 non-null   object \n",
            " 13  Market          1000 non-null   object \n",
            " 14  Product ID      1000 non-null   object \n",
            " 15  Category        1000 non-null   object \n",
            " 16  Sub-Category    1000 non-null   object \n",
            " 17  Product Name    1000 non-null   object \n",
            " 18  Sales           1000 non-null   float64\n",
            " 19  Quantity        1000 non-null   int64  \n",
            " 20  Discount        1000 non-null   float64\n",
            " 21  Profit          1000 non-null   float64\n",
            " 22  Shipping Cost   1000 non-null   float64\n",
            " 23  Order Priority  1000 non-null   object \n",
            "dtypes: float64(5), int64(2), object(17)\n",
            "memory usage: 187.6+ KB\n"
          ]
        }
      ]
    },
    {
      "cell_type": "markdown",
      "source": [
        "#BoxPlot"
      ],
      "metadata": {
        "id": "cnO4Pz_-hEuZ"
      }
    },
    {
      "cell_type": "code",
      "source": [
        "plt.figure(figsize=(10, 5), dpi=100)\n",
        "sns.boxplot(x='Category', y='Quantity', data=data)\n",
        "plt.title('Quantity by Category')\n",
        "#plt.xlabel('Category')\n",
        "#plt.ylabel('Quantity')\n",
        "plt.show()\n"
      ],
      "metadata": {
        "colab": {
          "base_uri": "https://localhost:8080/",
          "height": 487
        },
        "id": "rfOfsi9Cg_8R",
        "outputId": "8f788861-1ae2-41fc-c895-ba30f9f5384b"
      },
      "execution_count": 6,
      "outputs": [
        {
          "output_type": "display_data",
          "data": {
            "text/plain": [
              "<IPython.core.display.Javascript object>"
            ],
            "application/javascript": [
              "\n",
              "        if (window._pyforest_update_imports_cell) { window._pyforest_update_imports_cell('import sys\\nimport matplotlib.pyplot as plt\\nfrom scipy import signal as sg\\nimport statsmodels.api as sm\\nfrom sklearn import svm\\nimport statistics\\nimport xgboost as xgb\\nimport spacy\\nimport skimage\\nfrom scipy import stats\\nimport pandas as pd\\nimport sklearn'); }\n",
              "    "
            ]
          },
          "metadata": {}
        },
        {
          "output_type": "display_data",
          "data": {
            "text/plain": [
              "<IPython.core.display.Javascript object>"
            ],
            "application/javascript": [
              "\n",
              "        if (window._pyforest_update_imports_cell) { window._pyforest_update_imports_cell('import sys\\nimport matplotlib.pyplot as plt\\nfrom scipy import signal as sg\\nimport statsmodels.api as sm\\nfrom sklearn import svm\\nimport statistics\\nimport xgboost as xgb\\nimport spacy\\nimport skimage\\nfrom scipy import stats\\nimport pandas as pd\\nimport sklearn'); }\n",
              "    "
            ]
          },
          "metadata": {}
        },
        {
          "output_type": "display_data",
          "data": {
            "text/plain": [
              "<IPython.core.display.Javascript object>"
            ],
            "application/javascript": [
              "\n",
              "        if (window._pyforest_update_imports_cell) { window._pyforest_update_imports_cell('import sys\\nimport matplotlib.pyplot as plt\\nfrom scipy import signal as sg\\nimport statsmodels.api as sm\\nfrom sklearn import svm\\nimport statistics\\nimport xgboost as xgb\\nimport spacy\\nimport skimage\\nfrom scipy import stats\\nimport pandas as pd\\nimport sklearn'); }\n",
              "    "
            ]
          },
          "metadata": {}
        },
        {
          "output_type": "display_data",
          "data": {
            "text/plain": [
              "<Figure size 1000x500 with 1 Axes>"
            ],
            "image/png": "[encoded data removed]"
          },
          "metadata": {}
        }
      ]
    }
  ]
}